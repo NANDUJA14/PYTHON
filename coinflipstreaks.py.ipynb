{
 "cells": [
  {
   "cell_type": "code",
   "execution_count": 2,
   "id": "cf8763df-471b-4737-8067-77def649be9f",
   "metadata": {},
   "outputs": [
    {
     "name": "stdin",
     "output_type": "stream",
     "text": [
      "Enter number of coin flips:  4\n"
     ]
    },
    {
     "name": "stdout",
     "output_type": "stream",
     "text": [
      "Flips sequence:\n",
      "Tails Tails Tails Heads\n",
      "Longest streak of same outcome: 3\n"
     ]
    }
   ],
   "source": [
    "import random\n",
    "\n",
    "def flip_coin():\n",
    "    return random.choice(['Heads', 'Tails'])\n",
    "\n",
    "def longest_streak(flips):\n",
    "    max_streak = 1\n",
    "    current_streak = 1\n",
    "    for i in range(1, len(flips)):\n",
    "        if flips[i] == flips[i-1]:\n",
    "            current_streak += 1\n",
    "        else:\n",
    "            max_streak = max(max_streak, current_streak)\n",
    "            current_streak = 1\n",
    "    max_streak = max(max_streak, current_streak)\n",
    "    return max_streak\n",
    "\n",
    "def main():\n",
    "    num_flips = int(input(\"Enter number of coin flips: \"))\n",
    "    flips = [flip_coin() for _ in range(num_flips)]\n",
    "\n",
    "    print(\"Flips sequence:\")\n",
    "    print(' '.join(flips))\n",
    "\n",
    "    streak = longest_streak(flips)\n",
    "    print(f\"Longest streak of same outcome: {streak}\")\n",
    "\n",
    "if __name__ == \"__main__\":\n",
    "    main()"
   ]
  },
  {
   "cell_type": "code",
   "execution_count": null,
   "id": "e4d5c569-8d6e-4a89-9712-57b8791f17cf",
   "metadata": {},
   "outputs": [],
   "source": []
  }
 ],
 "metadata": {
  "kernelspec": {
   "display_name": "Python 3 (ipykernel)",
   "language": "python",
   "name": "python3"
  },
  "language_info": {
   "codemirror_mode": {
    "name": "ipython",
    "version": 3
   },
   "file_extension": ".py",
   "mimetype": "text/x-python",
   "name": "python",
   "nbconvert_exporter": "python",
   "pygments_lexer": "ipython3",
   "version": "3.12.7"
  }
 },
 "nbformat": 4,
 "nbformat_minor": 5
}
