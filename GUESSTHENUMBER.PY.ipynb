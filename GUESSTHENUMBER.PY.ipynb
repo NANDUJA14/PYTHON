{
 "cells": [
  {
   "cell_type": "code",
   "execution_count": 2,
   "id": "9e59ac00-f5c5-4b04-996c-929128d6b4cb",
   "metadata": {},
   "outputs": [
    {
     "name": "stdout",
     "output_type": "stream",
     "text": [
      "Welcome to Guess the Number!\n",
      "I'm thinking of a number between 1 and 10. Can you guess it?\n"
     ]
    },
    {
     "name": "stdin",
     "output_type": "stream",
     "text": [
      "Enter your guess:  5\n"
     ]
    },
    {
     "name": "stdout",
     "output_type": "stream",
     "text": [
      "Too low! Try again.\n"
     ]
    },
    {
     "name": "stdin",
     "output_type": "stream",
     "text": [
      "Enter your guess:  7\n"
     ]
    },
    {
     "name": "stdout",
     "output_type": "stream",
     "text": [
      "Congratulations! You guessed it in 2 attempts.\n"
     ]
    }
   ],
   "source": [
    "import random\n",
    "\n",
    "def guess_the_number():\n",
    "    number_to_guess = random.randint(1, 10)\n",
    "    attempts = 0\n",
    "\n",
    "    print(\"Welcome to Guess the Number!\")\n",
    "    print(\"I'm thinking of a number between 1 and 10. Can you guess it?\")\n",
    "\n",
    "    while True:\n",
    "        try:\n",
    "            user_guess = int(input(\"Enter your guess: \"))\n",
    "            attempts += 1\n",
    "\n",
    "            if user_guess < number_to_guess:\n",
    "                print(\"Too low! Try again.\")\n",
    "            elif user_guess > number_to_guess:\n",
    "                print(\"Too high! Try again.\")\n",
    "            else:\n",
    "                print(f\"Congratulations! You guessed it in {attempts} attempts.\")\n",
    "                break\n",
    "        except ValueError:\n",
    "            print(\"Please enter a valid number.\")\n",
    "\n",
    "if __name__ == \"__main__\":\n",
    "    guess_the_number()"
   ]
  },
  {
   "cell_type": "code",
   "execution_count": null,
   "id": "926f905c-a7c9-4c53-81cf-744cdc9dbeec",
   "metadata": {},
   "outputs": [],
   "source": []
  }
 ],
 "metadata": {
  "kernelspec": {
   "display_name": "Python 3 (ipykernel)",
   "language": "python",
   "name": "python3"
  },
  "language_info": {
   "codemirror_mode": {
    "name": "ipython",
    "version": 3
   },
   "file_extension": ".py",
   "mimetype": "text/x-python",
   "name": "python",
   "nbconvert_exporter": "python",
   "pygments_lexer": "ipython3",
   "version": "3.12.7"
  }
 },
 "nbformat": 4,
 "nbformat_minor": 5
}
