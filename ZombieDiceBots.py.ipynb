{
 "cells": [
  {
   "cell_type": "code",
   "execution_count": 1,
   "id": "7240dbf4-ab2e-4530-ae08-16d924690e3d",
   "metadata": {},
   "outputs": [
    {
     "name": "stdout",
     "output_type": "stream",
     "text": [
      "Starting your turn. Roll 3 dice each time.\n",
      "Rolled: Shotgun, Shotgun, Footprint\n",
      "Brains collected: 0\n",
      "Shotguns received: 2\n"
     ]
    },
    {
     "name": "stdin",
     "output_type": "stream",
     "text": [
      "Roll again? (y/n):  2\n"
     ]
    },
    {
     "name": "stdout",
     "output_type": "stream",
     "text": [
      "Turn ended with 0 brains collected.\n"
     ]
    }
   ],
   "source": [
    "import random\n",
    "\n",
    "def roll_die():\n",
    "    \"\"\"Roll one Zombie Dice die with faces: Brain, Footprint, Shotgun.\"\"\"\n",
    "    faces = ['Brain', 'Footprint', 'Shotgun']\n",
    "    return random.choice(faces)\n",
    "\n",
    "def roll_dice(num_dice=3):\n",
    "    \"\"\"Roll num_dice dice and return the results.\"\"\"\n",
    "    return [roll_die() for _ in range(num_dice)]\n",
    "\n",
    "def play_turn():\n",
    "    brains = 0\n",
    "    shotguns = 0\n",
    "    turn_over = False\n",
    "\n",
    "    print(\"Starting your turn. Roll 3 dice each time.\")\n",
    "\n",
    "    while not turn_over:\n",
    "        roll_results = roll_dice()\n",
    "        print(f\"Rolled: {', '.join(roll_results)}\")\n",
    "\n",
    "        brains += roll_results.count('Brain')\n",
    "        shotguns += roll_results.count('Shotgun')\n",
    "\n",
    "        print(f\"Brains collected: {brains}\")\n",
    "        print(f\"Shotguns received: {shotguns}\")\n",
    "\n",
    "        if shotguns >= 3:\n",
    "            print(\"Too many shotguns! You lost all collected brains for this turn.\")\n",
    "            brains = 0\n",
    "            turn_over = True\n",
    "        else:\n",
    "            choice = input(\"Roll again? (y/n): \").strip().lower()\n",
    "            if choice != 'y':\n",
    "                turn_over = True\n",
    "\n",
    "    print(f\"Turn ended with {brains} brains collected.\")\n",
    "\n",
    "if __name__ == \"__main__\":\n",
    "    play_turn()"
   ]
  },
  {
   "cell_type": "code",
   "execution_count": null,
   "id": "02051e88-e842-4496-953a-c3ee151b9055",
   "metadata": {},
   "outputs": [],
   "source": []
  }
 ],
 "metadata": {
  "kernelspec": {
   "display_name": "Python 3 (ipykernel)",
   "language": "python",
   "name": "python3"
  },
  "language_info": {
   "codemirror_mode": {
    "name": "ipython",
    "version": 3
   },
   "file_extension": ".py",
   "mimetype": "text/x-python",
   "name": "python",
   "nbconvert_exporter": "python",
   "pygments_lexer": "ipython3",
   "version": "3.12.7"
  }
 },
 "nbformat": 4,
 "nbformat_minor": 5
}
