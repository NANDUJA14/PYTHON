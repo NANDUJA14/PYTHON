{
 "cells": [
  {
   "cell_type": "code",
   "execution_count": 2,
   "id": "fb9e77b8-5d3f-4064-9b6a-0d158f6363ad",
   "metadata": {},
   "outputs": [
    {
     "name": "stdin",
     "output_type": "stream",
     "text": [
      "Enter a word or string:  hello\n"
     ]
    },
    {
     "name": "stdout",
     "output_type": "stream",
     "text": [
      "h\n",
      "he\n",
      "hel\n",
      "hell\n",
      "hello\n"
     ]
    }
   ],
   "source": [
    "def print_character_grid(word):\n",
    "    length = len(word)\n",
    "    for i in range(1, length + 1):\n",
    "        # Print first i characters of the word in a row\n",
    "        print(word[:i])\n",
    "\n",
    "if __name__ == \"__main__\":\n",
    "    input_word = input(\"Enter a word or string: \")\n",
    "    print_character_grid(input_word)"
   ]
  },
  {
   "cell_type": "code",
   "execution_count": null,
   "id": "86a54f7c-d563-4493-89e9-428780371c66",
   "metadata": {},
   "outputs": [],
   "source": []
  }
 ],
 "metadata": {
  "kernelspec": {
   "display_name": "Python 3 (ipykernel)",
   "language": "python",
   "name": "python3"
  },
  "language_info": {
   "codemirror_mode": {
    "name": "ipython",
    "version": 3
   },
   "file_extension": ".py",
   "mimetype": "text/x-python",
   "name": "python",
   "nbconvert_exporter": "python",
   "pygments_lexer": "ipython3",
   "version": "3.12.7"
  }
 },
 "nbformat": 4,
 "nbformat_minor": 5
}
