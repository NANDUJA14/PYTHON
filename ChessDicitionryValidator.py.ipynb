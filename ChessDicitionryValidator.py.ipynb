{
 "cells": [
  {
   "cell_type": "code",
   "execution_count": 6,
   "id": "751509c1-7f90-4ac2-a535-e4a0709e688c",
   "metadata": {},
   "outputs": [
    {
     "name": "stdout",
     "output_type": "stream",
     "text": [
      "Starting position FEN: rnbqkbnr/pppppppp/8/8/8/8/PPPPPPPP/RNBQKBNR w KQkq - 0 1\n"
     ]
    },
    {
     "name": "stdin",
     "output_type": "stream",
     "text": [
      "Enter your move in UCI format (e.g. e2e4):  e2e4\n"
     ]
    },
    {
     "name": "stdout",
     "output_type": "stream",
     "text": [
      "The move e2e4 is legal in the given position.\n"
     ]
    }
   ],
   "source": [
    "import chess\n",
    "\n",
    "def validate_move(fen, move_uci):\n",
    "    \"\"\"\n",
    "    Validate a chess move in UCI notation on a given board position (FEN).\n",
    "    Returns True if move is legal, False otherwise.\n",
    "    \"\"\"\n",
    "    board = chess.Board(fen)\n",
    "    try:\n",
    "        move = chess.Move.from_uci(move_uci)\n",
    "    except ValueError:\n",
    "        return False  # Invalid UCI format\n",
    "\n",
    "    return move in board.legal_moves\n",
    "\n",
    "if __name__ == \"__main__\":\n",
    "    # Example usage:\n",
    "    # Starting position FEN\n",
    "    fen = chess.STARTING_FEN\n",
    "    print(\"Starting position FEN:\", fen)\n",
    "    move_input = input(\"Enter your move in UCI format (e.g. e2e4): \").strip()\n",
    "\n",
    "    if validate_move(fen, move_input):\n",
    "        print(f\"The move {move_input} is legal in the given position.\")\n",
    "    else:\n",
    "        print(f\"The move {move_input} is NOT legal in the given position.\")"
   ]
  },
  {
   "cell_type": "code",
   "execution_count": null,
   "id": "0ca7d81f-7539-4caa-a1b3-47adb2b08167",
   "metadata": {},
   "outputs": [],
   "source": []
  }
 ],
 "metadata": {
  "kernelspec": {
   "display_name": "Python 3 (ipykernel)",
   "language": "python",
   "name": "python3"
  },
  "language_info": {
   "codemirror_mode": {
    "name": "ipython",
    "version": 3
   },
   "file_extension": ".py",
   "mimetype": "text/x-python",
   "name": "python",
   "nbconvert_exporter": "python",
   "pygments_lexer": "ipython3",
   "version": "3.12.7"
  }
 },
 "nbformat": 4,
 "nbformat_minor": 5
}
