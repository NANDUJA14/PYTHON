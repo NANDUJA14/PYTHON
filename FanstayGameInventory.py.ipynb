{
 "cells": [
  {
   "cell_type": "code",
   "execution_count": 1,
   "id": "4813cbf9-8d01-4945-a6fc-aece4bb65a01",
   "metadata": {},
   "outputs": [
    {
     "name": "stdout",
     "output_type": "stream",
     "text": [
      "Inventory:\n",
      "45 gold coin\n",
      "1 rope\n",
      "1 dagger\n",
      "1 ruby\n",
      "Total number of items: 48\n"
     ]
    }
   ],
   "source": [
    "def display_inventory(inventory):\n",
    "    print(\"Inventory:\")\n",
    "    total_items = 0\n",
    "    for item, count in inventory.items():\n",
    "        print(f\"{count} {item}\")\n",
    "        total_items += count\n",
    "    print(f\"Total number of items: {total_items}\")\n",
    "\n",
    "def add_to_inventory(inventory, added_items):\n",
    "    for item in added_items:\n",
    "        inventory[item] = inventory.get(item, 0) + 1\n",
    "    return inventory\n",
    "\n",
    "if __name__ == \"__main__\":\n",
    "    # Starting inventory\n",
    "    inventory = {'gold coin': 42, 'rope': 1}\n",
    "    \n",
    "    # Loot found\n",
    "    dragon_loot = ['gold coin', 'dagger', 'gold coin', 'gold coin', 'ruby']\n",
    "    \n",
    "    # Update inventory with loot\n",
    "    inventory = add_to_inventory(inventory, dragon_loot)\n",
    "    \n",
    "    # Display updated inventory\n",
    "    display_inventory(inventory)"
   ]
  },
  {
   "cell_type": "code",
   "execution_count": null,
   "id": "0229ffcd-0b95-4261-bc0c-7b7aaabfc65a",
   "metadata": {},
   "outputs": [],
   "source": []
  }
 ],
 "metadata": {
  "kernelspec": {
   "display_name": "Python 3 (ipykernel)",
   "language": "python",
   "name": "python3"
  },
  "language_info": {
   "codemirror_mode": {
    "name": "ipython",
    "version": 3
   },
   "file_extension": ".py",
   "mimetype": "text/x-python",
   "name": "python",
   "nbconvert_exporter": "python",
   "pygments_lexer": "ipython3",
   "version": "3.12.7"
  }
 },
 "nbformat": 4,
 "nbformat_minor": 5
}
